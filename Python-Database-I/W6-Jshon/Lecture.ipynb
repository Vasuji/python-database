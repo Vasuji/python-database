{
 "cells": [
  {
   "cell_type": "markdown",
   "metadata": {},
   "source": [
    "### Lecture"
   ]
  },
  {
   "cell_type": "markdown",
   "metadata": {},
   "source": [
    "### Deserialization"
   ]
  },
  {
   "cell_type": "markdown",
   "metadata": {},
   "source": [
    "##### Example - 1: "
   ]
  },
  {
   "cell_type": "code",
   "execution_count": 9,
   "metadata": {
    "collapsed": true
   },
   "outputs": [],
   "source": [
    "import json"
   ]
  },
  {
   "cell_type": "code",
   "execution_count": 30,
   "metadata": {
    "collapsed": true
   },
   "outputs": [],
   "source": [
    "data = '''{\n",
    "\"name\": \"Dibakar\",\n",
    "\"phon\":{\"type\": \"intl\",\n",
    "         \"number\": \"+1 786 553 4914\"\n",
    "         },\n",
    "\"email\": {\n",
    "     \"hide\": \"yes\"\n",
    "}\n",
    "}'''"
   ]
  },
  {
   "cell_type": "code",
   "execution_count": 31,
   "metadata": {
    "collapsed": false
   },
   "outputs": [
    {
     "data": {
      "text/plain": [
       "'{\\n\"name\": \"Dibakar\",\\n\"phon\":{\"type\": \"intl\",\\n         \"number\": \"+1 786 553 4914\"\\n         },\\n\"email\": {\\n     \"hide\": \"yes\"\\n}\\n}'"
      ]
     },
     "execution_count": 31,
     "metadata": {},
     "output_type": "execute_result"
    }
   ],
   "source": [
    "data"
   ]
  },
  {
   "cell_type": "code",
   "execution_count": 32,
   "metadata": {
    "collapsed": false
   },
   "outputs": [],
   "source": [
    "info = json.loads(data)"
   ]
  },
  {
   "cell_type": "code",
   "execution_count": 33,
   "metadata": {
    "collapsed": false
   },
   "outputs": [
    {
     "data": {
      "text/plain": [
       "{u'email': {u'hide': u'yes'},\n",
       " u'name': u'Dibakar',\n",
       " u'phon': {u'number': u'+1 786 553 4914', u'type': u'intl'}}"
      ]
     },
     "execution_count": 33,
     "metadata": {},
     "output_type": "execute_result"
    }
   ],
   "source": [
    "info"
   ]
  },
  {
   "cell_type": "code",
   "execution_count": 34,
   "metadata": {
    "collapsed": false
   },
   "outputs": [
    {
     "data": {
      "text/plain": [
       "dict"
      ]
     },
     "execution_count": 34,
     "metadata": {},
     "output_type": "execute_result"
    }
   ],
   "source": [
    "type(info)"
   ]
  },
  {
   "cell_type": "code",
   "execution_count": 18,
   "metadata": {
    "collapsed": false
   },
   "outputs": [],
   "source": [
    "#info =json.load('data.json')"
   ]
  },
  {
   "cell_type": "code",
   "execution_count": 15,
   "metadata": {
    "collapsed": false
   },
   "outputs": [
    {
     "name": "stdout",
     "output_type": "stream",
     "text": [
      "Name: Dibakar\n"
     ]
    }
   ],
   "source": [
    "print 'Name:',info[\"name\"]"
   ]
  },
  {
   "cell_type": "code",
   "execution_count": 16,
   "metadata": {
    "collapsed": false
   },
   "outputs": [
    {
     "name": "stdout",
     "output_type": "stream",
     "text": [
      "Hide: yes\n"
     ]
    }
   ],
   "source": [
    "print 'Hide:',info[\"email\"][\"hide\"]"
   ]
  },
  {
   "cell_type": "markdown",
   "metadata": {},
   "source": [
    "#### Example - 2:"
   ]
  },
  {
   "cell_type": "code",
   "execution_count": 19,
   "metadata": {
    "collapsed": true
   },
   "outputs": [],
   "source": [
    "data2 = '''[{\n",
    "\"name\": \"Dibakar\",\n",
    "\"phon\":{\"type\": \"intl\",\n",
    "         \"number\": \"+1 786 553 4914\"\n",
    "         },\n",
    "\"email\": {\n",
    "     \"hide\": \"yes\"\n",
    "}\n",
    "},\n",
    "{\n",
    "\"name\": \"Sana\",\n",
    "\"phon\":{\"type\": \"intl\",\n",
    "         \"number\": \"+1 234 467 9876\"\n",
    "         },\n",
    "\"email\": {\n",
    "     \"hide\": \"yes\"\n",
    "}\n",
    "}]'''"
   ]
  },
  {
   "cell_type": "code",
   "execution_count": 20,
   "metadata": {
    "collapsed": true
   },
   "outputs": [],
   "source": [
    "info2 = json.loads(data2)"
   ]
  },
  {
   "cell_type": "code",
   "execution_count": 23,
   "metadata": {
    "collapsed": false
   },
   "outputs": [
    {
     "name": "stdout",
     "output_type": "stream",
     "text": [
      "User count: 2\n"
     ]
    }
   ],
   "source": [
    "print 'User count:', len(info2)"
   ]
  },
  {
   "cell_type": "code",
   "execution_count": 29,
   "metadata": {
    "collapsed": false
   },
   "outputs": [
    {
     "name": "stdout",
     "output_type": "stream",
     "text": [
      "Name Dibakar\n",
      "Phon Number +1 786 553 4914\n",
      "Name Sana\n",
      "Phon Number +1 234 467 9876\n"
     ]
    }
   ],
   "source": [
    "for item in info2:\n",
    "    print 'Name', item['name']\n",
    "    print 'Phon Number',item['phon']['number']"
   ]
  },
  {
   "cell_type": "code",
   "execution_count": null,
   "metadata": {
    "collapsed": true
   },
   "outputs": [],
   "source": []
  }
 ],
 "metadata": {
  "kernelspec": {
   "display_name": "Python 2",
   "language": "python",
   "name": "python2"
  },
  "language_info": {
   "codemirror_mode": {
    "name": "ipython",
    "version": 2
   },
   "file_extension": ".py",
   "mimetype": "text/x-python",
   "name": "python",
   "nbconvert_exporter": "python",
   "pygments_lexer": "ipython2",
   "version": "2.7.10"
  }
 },
 "nbformat": 4,
 "nbformat_minor": 0
}
