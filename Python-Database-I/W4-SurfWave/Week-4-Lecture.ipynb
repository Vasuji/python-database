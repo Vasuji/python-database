{
 "cells": [
  {
   "cell_type": "markdown",
   "metadata": {},
   "source": [
    "### Lecture"
   ]
  },
  {
   "cell_type": "markdown",
   "metadata": {
    "collapsed": true
   },
   "source": [
    "#### Parsing HTML with Beauti"
   ]
  },
  {
   "cell_type": "code",
   "execution_count": 1,
   "metadata": {
    "collapsed": false
   },
   "outputs": [],
   "source": [
    "import urllib \n",
    "#from BeautifulSoup import *\n",
    "from bs4 import BeautifulSoup"
   ]
  },
  {
   "cell_type": "code",
   "execution_count": 2,
   "metadata": {
    "collapsed": false
   },
   "outputs": [],
   "source": [
    "url = \"http://www.dr-chuck.com/\""
   ]
  },
  {
   "cell_type": "code",
   "execution_count": 3,
   "metadata": {
    "collapsed": true
   },
   "outputs": [],
   "source": [
    "html  = urllib.urlopen(url).read()"
   ]
  },
  {
   "cell_type": "code",
   "execution_count": 4,
   "metadata": {
    "collapsed": true
   },
   "outputs": [],
   "source": [
    "soup = BeautifulSoup(html)"
   ]
  },
  {
   "cell_type": "code",
   "execution_count": 5,
   "metadata": {
    "collapsed": true
   },
   "outputs": [],
   "source": [
    "tags = soup('a')"
   ]
  },
  {
   "cell_type": "code",
   "execution_count": 6,
   "metadata": {
    "collapsed": false
   },
   "outputs": [
    {
     "name": "stdout",
     "output_type": "stream",
     "text": [
      "http://www.dr-chuck.com/csev-blog/\n",
      "http://www.si.umich.edu/\n",
      "http://www.ratemyprofessors.com/ShowRatings.jsp?tid=1159280\n",
      "http://www.dr-chuck.com/csev-blog/\n",
      "http://www.twitter.com/drchuck/\n",
      "http://www.dr-chuck.com/dr-chuck/resume/speaking.htm\n",
      "http://www.slideshare.net/csev\n",
      "/dr-chuck/resume/index.htm\n",
      "http://www.amazon.com/Charles-Severance/e/B002DMIFUA/?_encoding=UTF8&camp=1789&creative=390957&linkCode=ur2&tag=drchu02-20\n",
      "http://afs.dr-chuck.com/papers/\n",
      "https://itunes.apple.com/us/podcast/computing-conversations/id731495760\n",
      "http://www.youtube.com/playlist?list=PLHJB2bhmgB7dFuY7HmrXLj5BmHGKTD-3R\n",
      "http://developers.imsglobal.org/\n",
      "http://www.youtube.com/user/csev\n",
      "http://vimeo.com/drchuck/videos\n",
      "https://backpack.openbadges.org/share/4f76699ddb399d162a00b89a452074b3/\n",
      "http://www.linkedin.com/pub/chuck-severance/2/92a/3a8\n",
      "https://www.researchgate.net/profile/Charles_Severance/\n",
      "http://www.tsugi.org/\n",
      "http://youtu.be/slscHD40r78\n",
      "https://www.coursera.org/course/pythonlearn\n",
      "https://www.coursera.org/course/insidetheinternet\n",
      "http://open.umich.edu/education/si/si502/winter2009/\n",
      "http://www.pythonlearn.com\n",
      "http://www.php-intro.com/\n",
      "http://www.appenginelearn.com/\n",
      "http://www.pythonlearn.com/\n",
      "/sakai-book\n",
      "http://www.amazon.com/gp/product/1624311393/ref=as_li_ss_tl?ie=UTF8&camp=1789&creative=390957&creativeASIN=1624311393&linkCode=as2&tag=drchu02-20\n",
      "http://www.amazon.com/gp/product/059680069X/ref=as_li_ss_tl?ie=UTF8&camp=1789&creative=390957&creativeASIN=059680069X&linkCode=as2&tag=drchu02-20\n",
      "http://www.amazon.com/Performance-Computing-Architectures-Optimization-Benchmarks/dp/156592312X/\n",
      "http://oreilly.com/catalog/9781565923126/\n",
      "http://cnx.org/content/col11136/latest/\n",
      "http://www.youtube.com/playlist?list=PLHJB2bhmgB7dFuY7HmrXLj5BmHGKTD-3R\n",
      "http://www.vimeo.com/17207620\n",
      "http://www.youtube.com/watch?v=BVKpW02hsrU\n",
      "http://www.youtube.com/watch?v=sa2WsgCvn7c\n",
      "http://www.vimeo.com/17213019\n",
      "http://www.youtube.com/watch?v=FJ078sO35M0\n",
      "http://afs.dr-chuck.com/citoolkit\n",
      "http://www.sakaiproject.org/\n",
      "http://www.tsugi.org/ target=\n",
      "http://developers.imsglobal.org/\n",
      "/obi-sample\n",
      "https://twitter.com/drchuck\n"
     ]
    }
   ],
   "source": [
    "for tag in tags:\n",
    "    print tag.get('href',None)"
   ]
  },
  {
   "cell_type": "markdown",
   "metadata": {
    "collapsed": true
   },
   "source": [
    "## Info:"
   ]
  },
  {
   "cell_type": "markdown",
   "metadata": {},
   "source": [
    "The sample code for this course that you find at http://www.pythonlearn.com/code/ (urllinks.py, etc) is written in Python 2.x and uses Beautiful Soup version 3. To use this sample code you should download BeautifulSoup from\n",
    "\n",
    "http://www.pythonlearn.com/code/BeautifulSoup.py\n",
    "\n",
    "and place it in the same folder as your programs that use:"
   ]
  },
  {
   "cell_type": "code",
   "execution_count": 9,
   "metadata": {
    "collapsed": false
   },
   "outputs": [],
   "source": [
    "from BeautifulSoup import *"
   ]
  },
  {
   "cell_type": "markdown",
   "metadata": {},
   "source": [
    "If you want to use Python 3.x, you can download Beautiful Soup 4 from http://www.crummy.com/software/BeautifulSoup/ and follow the instructions there for installation. You will need to adapt our sample code a bit to make it work with the Python 3.0 BeautifulSoup library."
   ]
  },
  {
   "cell_type": "code",
   "execution_count": null,
   "metadata": {
    "collapsed": true
   },
   "outputs": [],
   "source": []
  }
 ],
 "metadata": {
  "kernelspec": {
   "display_name": "Python 2",
   "language": "python",
   "name": "python2"
  },
  "language_info": {
   "codemirror_mode": {
    "name": "ipython",
    "version": 2
   },
   "file_extension": ".py",
   "mimetype": "text/x-python",
   "name": "python",
   "nbconvert_exporter": "python",
   "pygments_lexer": "ipython2",
   "version": "2.7.11"
  }
 },
 "nbformat": 4,
 "nbformat_minor": 0
}
