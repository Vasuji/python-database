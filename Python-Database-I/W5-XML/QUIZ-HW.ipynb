{
 "cells": [
  {
   "cell_type": "markdown",
   "metadata": {},
   "source": [
    "# QUIZ-HW"
   ]
  },
  {
   "cell_type": "markdown",
   "metadata": {
    "collapsed": true
   },
   "source": [
    "*  1 . What is the name of the Python 2.x library to parse XML data?"
   ]
  },
  {
   "cell_type": "markdown",
   "metadata": {},
   "source": [
    "xml.etree.ElementTree "
   ]
  },
  {
   "cell_type": "markdown",
   "metadata": {},
   "source": [
    "*  2 . What is the method to cause Python to parse XML that is stored in a string?"
   ]
  },
  {
   "cell_type": "markdown",
   "metadata": {},
   "source": [
    "fromstring()"
   ]
  },
  {
   "cell_type": "markdown",
   "metadata": {},
   "source": [
    "*  3 .  In this XML, which are the \"simple elements\"?"
   ]
  },
  {
   "cell_type": "code",
   "execution_count": null,
   "metadata": {
    "collapsed": true
   },
   "outputs": [],
   "source": [
    "<people>\n",
    "    <person>\n",
    "       <name>Chuck</name>\n",
    "       <phone>303 4456</phone>\n",
    "    </person>\n",
    "    <person>\n",
    "       <name>Noah</name>\n",
    "       <phone>622 7421</phone>\n",
    "    </person>\n",
    "</people>"
   ]
  },
  {
   "cell_type": "markdown",
   "metadata": {},
   "source": [
    "Hint Complex type include tag inside tag\n",
    "\n",
    "Simple type includes text only"
   ]
  },
  {
   "cell_type": "markdown",
   "metadata": {},
   "source": [
    "simple-type : name,phon\n",
    "\n",
    "complex-type: person,people"
   ]
  },
  {
   "cell_type": "markdown",
   "metadata": {},
   "source": [
    "*  4 . In the following XML, which are attributes?"
   ]
  },
  {
   "cell_type": "code",
   "execution_count": null,
   "metadata": {
    "collapsed": true
   },
   "outputs": [],
   "source": [
    "<person>\n",
    "  <name>Chuck</name>\n",
    "  <phone type=\"intl\">\n",
    "     +1 734 303 4456\n",
    "  </phone>\n",
    "  <email hide=\"yes\" />\n",
    "</person>"
   ]
  },
  {
   "cell_type": "markdown",
   "metadata": {},
   "source": [
    "attributes(key-value pair) = type,hide"
   ]
  },
  {
   "cell_type": "markdown",
   "metadata": {},
   "source": [
    "* 5 . In the following XML, which node is the parent node of node e"
   ]
  },
  {
   "cell_type": "code",
   "execution_count": null,
   "metadata": {
    "collapsed": false
   },
   "outputs": [],
   "source": [
    "<a>\n",
    "  <b>X</b>\n",
    "  <c>\n",
    "    <d>Y</d>\n",
    "    <e>Z</e>\n",
    "  </c>\n",
    "</a>"
   ]
  },
  {
   "cell_type": "markdown",
   "metadata": {},
   "source": [
    "c"
   ]
  },
  {
   "cell_type": "markdown",
   "metadata": {},
   "source": [
    "* 6. Looking at the following XML, what text value would we find at path \"/a/c/e\""
   ]
  },
  {
   "cell_type": "code",
   "execution_count": null,
   "metadata": {
    "collapsed": true
   },
   "outputs": [],
   "source": [
    "<a>\n",
    "  <b>X</b>\n",
    "  <c>\n",
    "    <d>Y</d>\n",
    "    <e>Z</e>\n",
    "  </c>\n",
    "</a>"
   ]
  },
  {
   "cell_type": "markdown",
   "metadata": {},
   "source": [
    "Z"
   ]
  },
  {
   "cell_type": "markdown",
   "metadata": {},
   "source": [
    "* 7 . What is the purpose of XML Schema?"
   ]
  },
  {
   "cell_type": "markdown",
   "metadata": {},
   "source": [
    "To establish a contract as to what is valid XML"
   ]
  },
  {
   "cell_type": "markdown",
   "metadata": {},
   "source": [
    "* 8 . For this XML Schema:"
   ]
  },
  {
   "cell_type": "code",
   "execution_count": null,
   "metadata": {
    "collapsed": true
   },
   "outputs": [],
   "source": [
    "<xs:complexType name=”person”>\n",
    "  <xs:sequence>\n",
    "    <xs:element name=\"lastname\" type=\"xs:string\"/>\n",
    "    <xs:element name=\"age\" type=\"xs:integer\"/>\n",
    "    <xs:element name=\"dateborn\" type=\"xs:date\"/>\n",
    "  </xs:sequence>\n",
    "</xs:complexType>"
   ]
  },
  {
   "cell_type": "markdown",
   "metadata": {},
   "source": [
    "and this XML:"
   ]
  },
  {
   "cell_type": "code",
   "execution_count": null,
   "metadata": {
    "collapsed": true
   },
   "outputs": [],
   "source": [
    "<person>\n",
    "   <lastname>Severance</lastname>\n",
    "   <Age>17</Age>\n",
    "   <dateborn>2001-04-17</dateborn>\n",
    "</person>"
   ]
  },
  {
   "cell_type": "code",
   "execution_count": 3,
   "metadata": {
    "collapsed": false
   },
   "outputs": [
    {
     "data": {
      "text/plain": [
       "'<Age>'"
      ]
     },
     "execution_count": 3,
     "metadata": {},
     "output_type": "execute_result"
    }
   ],
   "source": [
    "'''<Age>'''"
   ]
  },
  {
   "cell_type": "markdown",
   "metadata": {},
   "source": [
    "* 9 . What does the \"Z\" mean in this representation of a time:"
   ]
  },
  {
   "cell_type": "markdown",
   "metadata": {},
   "source": [
    "This time is in the UTC timezone"
   ]
  },
  {
   "cell_type": "markdown",
   "metadata": {},
   "source": [
    "* 10 . Which of the following dates is in ISO8601 format?"
   ]
  },
  {
   "cell_type": "markdown",
   "metadata": {},
   "source": [
    "2002-05-30T09:30:10Z"
   ]
  },
  {
   "cell_type": "markdown",
   "metadata": {},
   "source": [
    "## HW"
   ]
  },
  {
   "cell_type": "markdown",
   "metadata": {},
   "source": [
    "* Extracting Data from XML\n",
    "\n",
    "In this assignment you will write a Python program somewhat similar to http://www.pythonlearn.com/code/geoxml.py. The program will prompt for a URL, read the XML data from that URL using urllib and then parse and extract the comment counts from the XML data, compute the sum of the numbers in the file and enter the sum,"
   ]
  },
  {
   "cell_type": "markdown",
   "metadata": {},
   "source": [
    "#### Statement"
   ]
  },
  {
   "cell_type": "markdown",
   "metadata": {},
   "source": [
    "Welcome Dibakar Sigdel from Using Python to Access Web Data\n",
    "\n",
    "* Extracting Data from XML\n",
    "\n",
    "In this assignment you will write a Python program somewhat similar to http://www.pythonlearn.com/code/geoxml.py. The program will prompt for a URL, read the XML data from that URL using urllib and then parse and extract the comment counts from the XML data, compute the sum of the numbers in the file.\n",
    "\n",
    "We provide two files for this assignment. One is a sample file where we give you the sum for your testing and the other is the actual data you need to process for the assignment.\n",
    "\n",
    "    * Sample data: http://python-data.dr-chuck.net/comments_42.xml (Sum=2482)\n",
    "    * Actual data: http://python-data.dr-chuck.net/comments_199855.xml (Sum ends with 32)\n",
    "\n",
    "You do not need to save these files to your folder since your program will read the data directly from the URL. Note: Each student will have a distinct data url for the assignment - so only use your own data url for analysis.\n",
    "\n",
    "Data Format and Approach\n",
    "\n",
    "The data consists of a number of names and comment counts in XML as follows: "
   ]
  },
  {
   "cell_type": "code",
   "execution_count": null,
   "metadata": {
    "collapsed": true
   },
   "outputs": [],
   "source": [
    "<comment>\n",
    "  <name>Matthias</name>\n",
    "  <count>97</count>\n",
    "</comment>\n"
   ]
  },
  {
   "cell_type": "markdown",
   "metadata": {},
   "source": [
    "You are to look through all the <comment> tags and find the <count> values sum the numbers. The closest sample code that shows how to parse XML is geoxml.py. But since the nesting of the elements in our data is different than the data we are parsing in that sample code you will have to make real changes to the code.\n",
    "\n",
    "To make the code a little simpler, you can use an XPath selector string to look through the entire tree of XML for any tag named 'count' with the following line of code:\n",
    "\n"
   ]
  },
  {
   "cell_type": "code",
   "execution_count": null,
   "metadata": {
    "collapsed": true
   },
   "outputs": [],
   "source": [
    "counts = tree.findall('.//count')"
   ]
  },
  {
   "cell_type": "markdown",
   "metadata": {},
   "source": [
    "Take a look at the Python ElementTree documentation and look for the supported XPath syntax for details. You could also work from the top of the XML down to the comments node and then loop through the child nodes of the comments node.\n",
    "\n",
    "* Sample Execution"
   ]
  },
  {
   "cell_type": "code",
   "execution_count": null,
   "metadata": {
    "collapsed": true
   },
   "outputs": [],
   "source": [
    "$ python solution.py \n",
    "Enter location: http://python-data.dr-chuck.net/comments_42.xml\n",
    "Retrieving http://python-data.dr-chuck.net/comments_42.xml\n",
    "Retrieved 4204 characters\n",
    "Count: 50\n",
    "Sum: 2482"
   ]
  },
  {
   "cell_type": "markdown",
   "metadata": {},
   "source": [
    "### Turning in the Assignment"
   ]
  },
  {
   "cell_type": "markdown",
   "metadata": {},
   "source": [
    "#### Example:"
   ]
  },
  {
   "cell_type": "code",
   "execution_count": 66,
   "metadata": {
    "collapsed": false
   },
   "outputs": [
    {
     "name": "stdout",
     "output_type": "stream",
     "text": [
      "Retrieving http://python-data.dr-chuck.net/comments_42.xml\n"
     ]
    }
   ],
   "source": [
    "import urllib\n",
    "import xml.etree.ElementTree as ET\n",
    "\n",
    "url = \"http://python-data.dr-chuck.net/comments_42.xml\"   \n",
    "print 'Retrieving', url\n",
    "uh = urllib.urlopen(url)\n",
    "data = uh.read()"
   ]
  },
  {
   "cell_type": "code",
   "execution_count": 68,
   "metadata": {
    "collapsed": false
   },
   "outputs": [
    {
     "name": "stdout",
     "output_type": "stream",
     "text": [
      "Retrieved 4204 characters\n"
     ]
    }
   ],
   "source": [
    "print 'Retrieved',len(data),'characters'   \n",
    "# print data"
   ]
  },
  {
   "cell_type": "markdown",
   "metadata": {},
   "source": [
    "#### reading data from string"
   ]
  },
  {
   "cell_type": "code",
   "execution_count": 69,
   "metadata": {
    "collapsed": false
   },
   "outputs": [
    {
     "name": "stdout",
     "output_type": "stream",
     "text": [
      "<Element 'commentinfo' at 0x105274710>\n"
     ]
    }
   ],
   "source": [
    "tree = ET.fromstring(data)\n",
    "print tree\n",
    "# in case of data file\n",
    "#tree = ET.parse('mydata.xml')\n",
    "#root = tree.getroot()"
   ]
  },
  {
   "cell_type": "code",
   "execution_count": 70,
   "metadata": {
    "collapsed": false
   },
   "outputs": [
    {
     "name": "stdout",
     "output_type": "stream",
     "text": [
      "note {}\n",
      "comments {}\n"
     ]
    }
   ],
   "source": [
    "for child in tree:\n",
    "    print child.tag, child.attrib"
   ]
  },
  {
   "cell_type": "code",
   "execution_count": 71,
   "metadata": {
    "collapsed": false
   },
   "outputs": [
    {
     "name": "stdout",
     "output_type": "stream",
     "text": [
      "<Element 'note' at 0x105274290>\n"
     ]
    }
   ],
   "source": [
    "print tree[0]"
   ]
  },
  {
   "cell_type": "code",
   "execution_count": 72,
   "metadata": {
    "collapsed": false
   },
   "outputs": [
    {
     "name": "stdout",
     "output_type": "stream",
     "text": [
      "This file contains the sample data for testing\n"
     ]
    }
   ],
   "source": [
    "print tree[0].text"
   ]
  },
  {
   "cell_type": "code",
   "execution_count": 73,
   "metadata": {
    "collapsed": false
   },
   "outputs": [
    {
     "name": "stdout",
     "output_type": "stream",
     "text": [
      "Leven\n"
     ]
    }
   ],
   "source": [
    "print tree[1][0][0].text"
   ]
  },
  {
   "cell_type": "code",
   "execution_count": 74,
   "metadata": {
    "collapsed": false
   },
   "outputs": [
    {
     "name": "stdout",
     "output_type": "stream",
     "text": [
      "100\n"
     ]
    }
   ],
   "source": [
    "print tree[1][0][1].text"
   ]
  },
  {
   "cell_type": "code",
   "execution_count": 75,
   "metadata": {
    "collapsed": false
   },
   "outputs": [
    {
     "data": {
      "text/plain": [
       "50"
      ]
     },
     "execution_count": 75,
     "metadata": {},
     "output_type": "execute_result"
    }
   ],
   "source": [
    "len(tree[1])"
   ]
  },
  {
   "cell_type": "code",
   "execution_count": 76,
   "metadata": {
    "collapsed": false
   },
   "outputs": [],
   "source": [
    "A = []\n",
    "for k in range(len(tree[1])) :   \n",
    "    ai =tree[1][k][1].text \n",
    "    #print  k, tree[1][k][1].text  \n",
    "    bi = int(ai)\n",
    "    A.append(bi)    "
   ]
  },
  {
   "cell_type": "code",
   "execution_count": 77,
   "metadata": {
    "collapsed": false
   },
   "outputs": [
    {
     "data": {
      "text/plain": [
       "2482"
      ]
     },
     "execution_count": 77,
     "metadata": {},
     "output_type": "execute_result"
    }
   ],
   "source": [
    "sum(A)"
   ]
  },
  {
   "cell_type": "markdown",
   "metadata": {},
   "source": [
    "#### Next method"
   ]
  },
  {
   "cell_type": "code",
   "execution_count": 78,
   "metadata": {
    "collapsed": false
   },
   "outputs": [
    {
     "data": {
      "text/plain": [
       "'100'"
      ]
     },
     "execution_count": 78,
     "metadata": {},
     "output_type": "execute_result"
    }
   ],
   "source": [
    "tree.find('comments').find('comment').find('count').text"
   ]
  },
  {
   "cell_type": "code",
   "execution_count": 79,
   "metadata": {
    "collapsed": true
   },
   "outputs": [],
   "source": [
    "counts = tree.findall('.//count')"
   ]
  },
  {
   "cell_type": "code",
   "execution_count": 80,
   "metadata": {
    "collapsed": false
   },
   "outputs": [
    {
     "data": {
      "text/plain": [
       "list"
      ]
     },
     "execution_count": 80,
     "metadata": {},
     "output_type": "execute_result"
    }
   ],
   "source": [
    "type(counts)"
   ]
  },
  {
   "cell_type": "code",
   "execution_count": 81,
   "metadata": {
    "collapsed": false
   },
   "outputs": [
    {
     "name": "stdout",
     "output_type": "stream",
     "text": [
      "[<Element 'count' at 0x105274450>, <Element 'count' at 0x105274910>, <Element 'count' at 0x105274590>, <Element 'count' at 0x105263790>, <Element 'count' at 0x1052634d0>, <Element 'count' at 0x105263410>, <Element 'count' at 0x105263590>, <Element 'count' at 0x1052636d0>, <Element 'count' at 0x105263850>, <Element 'count' at 0x105263910>, <Element 'count' at 0x1052639d0>, <Element 'count' at 0x105263a90>, <Element 'count' at 0x105263b50>, <Element 'count' at 0x105263c10>, <Element 'count' at 0x105263cd0>, <Element 'count' at 0x105263d90>, <Element 'count' at 0x105263e50>, <Element 'count' at 0x105263f10>, <Element 'count' at 0x105263fd0>, <Element 'count' at 0x1052b60d0>, <Element 'count' at 0x1052b6190>, <Element 'count' at 0x1052b6250>, <Element 'count' at 0x1052b6310>, <Element 'count' at 0x1052b63d0>, <Element 'count' at 0x1052b6490>, <Element 'count' at 0x1052b6550>, <Element 'count' at 0x1052b6610>, <Element 'count' at 0x1052b66d0>, <Element 'count' at 0x1052b6790>, <Element 'count' at 0x1052b6850>, <Element 'count' at 0x1052b6910>, <Element 'count' at 0x1052b69d0>, <Element 'count' at 0x1052b6a90>, <Element 'count' at 0x1052b6b50>, <Element 'count' at 0x1052b6c10>, <Element 'count' at 0x1052b6cd0>, <Element 'count' at 0x1052b6d90>, <Element 'count' at 0x1052b6e50>, <Element 'count' at 0x1052b6f10>, <Element 'count' at 0x1052b6fd0>, <Element 'count' at 0x1052b50d0>, <Element 'count' at 0x1052b5190>, <Element 'count' at 0x1052b5250>, <Element 'count' at 0x1052b5310>, <Element 'count' at 0x1052b53d0>, <Element 'count' at 0x1052b5490>, <Element 'count' at 0x1052b5550>, <Element 'count' at 0x1052b5610>, <Element 'count' at 0x1052b56d0>, <Element 'count' at 0x1052b5790>]\n"
     ]
    }
   ],
   "source": [
    "print counts"
   ]
  },
  {
   "cell_type": "markdown",
   "metadata": {},
   "source": [
    "#### Actual Assignment"
   ]
  },
  {
   "cell_type": "code",
   "execution_count": 82,
   "metadata": {
    "collapsed": false
   },
   "outputs": [
    {
     "name": "stdout",
     "output_type": "stream",
     "text": [
      "Retrieving http://python-data.dr-chuck.net/comments_199855.xml\n",
      "Retrieved 4224 characters\n"
     ]
    }
   ],
   "source": [
    "url = \"http://python-data.dr-chuck.net/comments_199855.xml\"   \n",
    "print 'Retrieving', url\n",
    "uh = urllib.urlopen(url)\n",
    "data = uh.read()\n",
    "print 'Retrieved',len(data),'characters'\n",
    "tree = ET.fromstring(data)"
   ]
  },
  {
   "cell_type": "code",
   "execution_count": 83,
   "metadata": {
    "collapsed": false
   },
   "outputs": [
    {
     "name": "stdout",
     "output_type": "stream",
     "text": [
      "note {}\n",
      "comments {}\n"
     ]
    }
   ],
   "source": [
    "for child in tree:\n",
    "    print child.tag, child.attrib"
   ]
  },
  {
   "cell_type": "code",
   "execution_count": 86,
   "metadata": {
    "collapsed": true
   },
   "outputs": [],
   "source": [
    "A = []\n",
    "for k in range(len(tree[1])) :   \n",
    "    ai =tree[1][k][1].text \n",
    "    #print  k, tree[1][k][1].text  \n",
    "    bi = int(ai)\n",
    "    A.append(bi) "
   ]
  },
  {
   "cell_type": "code",
   "execution_count": 87,
   "metadata": {
    "collapsed": false
   },
   "outputs": [
    {
     "data": {
      "text/plain": [
       "2732"
      ]
     },
     "execution_count": 87,
     "metadata": {},
     "output_type": "execute_result"
    }
   ],
   "source": [
    "sum(A)"
   ]
  },
  {
   "cell_type": "markdown",
   "metadata": {},
   "source": [
    "#### Given Sample  Code"
   ]
  },
  {
   "cell_type": "code",
   "execution_count": null,
   "metadata": {
    "collapsed": true
   },
   "outputs": [],
   "source": [
    "import urllib\n",
    "import xml.etree.ElementTree as ET\n",
    "\n",
    "serviceurl = 'http://maps.googleapis.com/maps/api/geocode/xml?'\n",
    "\n",
    "while True:\n",
    "    address = raw_input('Enter location: ')\n",
    "    if len(address) < 1 : break\n",
    "\n",
    "    url = serviceurl + urllib.urlencode({'sensor':'false', 'address': address})\n",
    "    print 'Retrieving', url\n",
    "    uh = urllib.urlopen(url)\n",
    "    data = uh.read()\n",
    "    print 'Retrieved',len(data),'characters'\n",
    "    print data\n",
    "    tree = ET.fromstring(data)\n",
    "\n",
    "\n",
    "    results = tree.findall('result')\n",
    "    lat = results[0].find('geometry').find('location').find('lat').text\n",
    "    lng = results[0].find('geometry').find('location').find('lng').text\n",
    "    location = results[0].find('formatted_address').text\n",
    "\n",
    "    print 'lat',lat,'lng',lng\n",
    "    print location"
   ]
  }
 ],
 "metadata": {
  "kernelspec": {
   "display_name": "Python 2",
   "language": "python",
   "name": "python2"
  },
  "language_info": {
   "codemirror_mode": {
    "name": "ipython",
    "version": 2
   },
   "file_extension": ".py",
   "mimetype": "text/x-python",
   "name": "python",
   "nbconvert_exporter": "python",
   "pygments_lexer": "ipython2",
   "version": "2.7.10"
  }
 },
 "nbformat": 4,
 "nbformat_minor": 0
}
