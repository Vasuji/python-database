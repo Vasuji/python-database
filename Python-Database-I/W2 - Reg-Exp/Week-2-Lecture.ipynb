{
 "cells": [
  {
   "cell_type": "markdown",
   "metadata": {},
   "source": [
    "## Regular Expression"
   ]
  },
  {
   "cell_type": "code",
   "execution_count": 1,
   "metadata": {
    "collapsed": false
   },
   "outputs": [
    {
     "name": "stdout",
     "output_type": "stream",
     "text": [
      "Hello Dibakar Sigdel\n"
     ]
    }
   ],
   "source": [
    "fl = open('sample.txt')\n",
    "for line in fl:\n",
    "    line = line.rstrip()\n",
    "    if line.find('Hello')>= 0:\n",
    "        print line"
   ]
  },
  {
   "cell_type": "markdown",
   "metadata": {},
   "source": [
    "### Using Regular Expression Library"
   ]
  },
  {
   "cell_type": "code",
   "execution_count": 2,
   "metadata": {
    "collapsed": true
   },
   "outputs": [],
   "source": [
    "import re"
   ]
  },
  {
   "cell_type": "markdown",
   "metadata": {},
   "source": [
    "#### re.search( )"
   ]
  },
  {
   "cell_type": "markdown",
   "metadata": {},
   "source": [
    "* Starts From: ^"
   ]
  },
  {
   "cell_type": "code",
   "execution_count": 3,
   "metadata": {
    "collapsed": false
   },
   "outputs": [
    {
     "name": "stdout",
     "output_type": "stream",
     "text": [
      "Hello Dibakar Sigdel\n"
     ]
    }
   ],
   "source": [
    "fl = open('sample.txt')\n",
    "for line in fl:\n",
    "    line = line.rstrip()\n",
    "    if re.search('^Hello',line)>= 0:\n",
    "        print line"
   ]
  },
  {
   "cell_type": "markdown",
   "metadata": {},
   "source": [
    "* Some no of characters: .*"
   ]
  },
  {
   "cell_type": "markdown",
   "metadata": {},
   "source": [
    "* Starts with 'X' ,has some character and ends with ':': ^X.*:"
   ]
  },
  {
   "cell_type": "code",
   "execution_count": 4,
   "metadata": {
    "collapsed": false
   },
   "outputs": [
    {
     "name": "stdout",
     "output_type": "stream",
     "text": [
      "X-jpt alu:\n",
      "X-Sieve:CMU SIEVE 2.3\n",
      "X-dpsme-returns: Innocent\n"
     ]
    }
   ],
   "source": [
    "fl = open('sample.txt')\n",
    "for line in fl:\n",
    "    line = line.rstrip()\n",
    "    if re.search('^X.*:',line)>= 0:\n",
    "        print line"
   ]
  },
  {
   "cell_type": "markdown",
   "metadata": {},
   "source": [
    "* Starts'X-',has any non-whitespace character one or more time and end with colon: ^X-\\S+:\n",
    "\n",
    "Eample:\n",
    "\n",
    "    X-Sieve:CMU SIEVE 2.3\n",
    "    X-dpsme-returns: Innocent"
   ]
  },
  {
   "cell_type": "code",
   "execution_count": 5,
   "metadata": {
    "collapsed": false,
    "scrolled": false
   },
   "outputs": [
    {
     "name": "stdout",
     "output_type": "stream",
     "text": [
      "X-Sieve:CMU SIEVE 2.3\n",
      "X-dpsme-returns: Innocent\n"
     ]
    }
   ],
   "source": [
    "fl = open('sample.txt')\n",
    "for line in fl:\n",
    "    line = line.rstrip()\n",
    "    if re.search('^X-\\S+:',line)>= 0:\n",
    "        print line"
   ]
  },
  {
   "cell_type": "markdown",
   "metadata": {},
   "source": [
    "####  re.findall( )"
   ]
  },
  {
   "cell_type": "markdown",
   "metadata": {},
   "source": [
    "*  Find digit one or more time[0-9]+"
   ]
  },
  {
   "cell_type": "code",
   "execution_count": 6,
   "metadata": {
    "collapsed": false
   },
   "outputs": [
    {
     "name": "stdout",
     "output_type": "stream",
     "text": [
      "['2', '123', '45']\n"
     ]
    }
   ],
   "source": [
    "X = 'my 2 favourite number are 123 and 45'\n",
    "Y = re.findall('[0-9]+',X)\n",
    "print Y"
   ]
  },
  {
   "cell_type": "code",
   "execution_count": 7,
   "metadata": {
    "collapsed": false
   },
   "outputs": [
    {
     "name": "stdout",
     "output_type": "stream",
     "text": [
      "[]\n"
     ]
    }
   ],
   "source": [
    "Y = re.findall('[AEIOU]+',X)\n",
    "print Y"
   ]
  },
  {
   "cell_type": "code",
   "execution_count": 8,
   "metadata": {
    "collapsed": false
   },
   "outputs": [
    {
     "name": "stdout",
     "output_type": "stream",
     "text": [
      "['a', 'ou', 'i', 'e', 'u', 'e', 'a', 'e', 'a']\n"
     ]
    }
   ],
   "source": [
    "Y = re.findall('[aeiou]+',X)\n",
    "print Y"
   ]
  },
  {
   "cell_type": "code",
   "execution_count": 9,
   "metadata": {
    "collapsed": false
   },
   "outputs": [
    {
     "name": "stdout",
     "output_type": "stream",
     "text": [
      "['my', 'favourite', 'number', 'are', 'and']\n"
     ]
    }
   ],
   "source": [
    "Y = re.findall('[a-z]+',X)\n",
    "print Y"
   ]
  },
  {
   "cell_type": "markdown",
   "metadata": {},
   "source": [
    "* Starts with letter 'F', one or mor characters, ends with ':': ^F.+:"
   ]
  },
  {
   "cell_type": "code",
   "execution_count": 10,
   "metadata": {
    "collapsed": false
   },
   "outputs": [
    {
     "name": "stdout",
     "output_type": "stream",
     "text": [
      "['From: Using the :']\n"
     ]
    }
   ],
   "source": [
    "'''long string'''\n",
    "x = 'From: Using the : Characters'\n",
    "y = re.findall('F.+:',x)\n",
    "print y"
   ]
  },
  {
   "cell_type": "code",
   "execution_count": 11,
   "metadata": {
    "collapsed": false
   },
   "outputs": [
    {
     "name": "stdout",
     "output_type": "stream",
     "text": [
      "['From:']\n"
     ]
    }
   ],
   "source": [
    "'''short string'''\n",
    "x = 'From: Using the : Characters'\n",
    "y = re.findall('F.+?:',x)\n",
    "print y"
   ]
  },
  {
   "cell_type": "markdown",
   "metadata": {},
   "source": [
    "### Regular Expression Cheat Sheet:"
   ]
  },
  {
   "cell_type": "markdown",
   "metadata": {},
   "source": [
    "https://docs.python.org/2/howto/regex.html"
   ]
  },
  {
   "cell_type": "code",
   "execution_count": 12,
   "metadata": {
    "collapsed": false
   },
   "outputs": [
    {
     "data": {
      "text/plain": [
       "'Python Regular Expression Quick Guide\\n\\n^        Matches the beginning of a line\\n$        Matches the end of the line\\n.        Matches any character\\n\\\\s       Matches whitespace\\n\\\\S       Matches any non-whitespace character\\n*        Repeats a character zero or more times\\n*?       Repeats a character zero or more times \\n         (non-greedy)\\n+        Repeats a character one or more times\\n+?       Repeats a character one or more times \\n         (non-greedy)\\n[aeiou]  Matches a single character in the listed set\\n[^XYZ]   Matches a single character not in the listed set\\n[a-z0-9] The set of characters can include a range\\n(        Indicates where string extraction is to start\\n)        Indicates where string extraction is to end'"
      ]
     },
     "execution_count": 12,
     "metadata": {},
     "output_type": "execute_result"
    }
   ],
   "source": [
    "'''Python Regular Expression Quick Guide\n",
    "\n",
    "^        Matches the beginning of a line\n",
    "$        Matches the end of the line\n",
    ".        Matches any character\n",
    "\\s       Matches whitespace\n",
    "\\S       Matches any non-whitespace character\n",
    "*        Repeats a character zero or more times\n",
    "*?       Repeats a character zero or more times \n",
    "         (non-greedy)\n",
    "+        Repeats a character one or more times\n",
    "+?       Repeats a character one or more times \n",
    "         (non-greedy)\n",
    "[aeiou]  Matches a single character in the listed set\n",
    "[^XYZ]   Matches a single character not in the listed set\n",
    "[a-z0-9] The set of characters can include a range\n",
    "(        Indicates where string extraction is to start\n",
    ")        Indicates where string extraction is to end'''\n",
    "\n"
   ]
  },
  {
   "cell_type": "code",
   "execution_count": 13,
   "metadata": {
    "collapsed": false
   },
   "outputs": [
    {
     "name": "stdout",
     "output_type": "stream",
     "text": [
      "['sigdeldkr@gmail.com']\n"
     ]
    }
   ],
   "source": [
    "X = 'From sigdeldkr@gmail.com Sat Jan 5 09:14:16 2009'\n",
    "Y = re.findall('\\S+@\\S+',X)\n",
    "print Y"
   ]
  },
  {
   "cell_type": "code",
   "execution_count": 14,
   "metadata": {
    "collapsed": false
   },
   "outputs": [
    {
     "name": "stdout",
     "output_type": "stream",
     "text": [
      "['sigdeldkr@gmail.com']\n"
     ]
    }
   ],
   "source": [
    "X = 'From sigdeldkr@gmail.com Sat Jan 5 09:14:16 2009'\n",
    "Y = re.findall('^From (\\S+@\\S+)',X)\n",
    "print Y"
   ]
  },
  {
   "cell_type": "code",
   "execution_count": 15,
   "metadata": {
    "collapsed": false
   },
   "outputs": [
    {
     "name": "stdout",
     "output_type": "stream",
     "text": [
      "['gmail.com']\n"
     ]
    }
   ],
   "source": [
    "X = 'From sigdeldkr@gmail.com Sat Jan 5 09:14:16 2009'\n",
    "Y = re.findall('@([^ ]*)',X)\n",
    "print Y"
   ]
  },
  {
   "cell_type": "code",
   "execution_count": 16,
   "metadata": {
    "collapsed": false
   },
   "outputs": [
    {
     "name": "stdout",
     "output_type": "stream",
     "text": [
      "['gmail.com']\n"
     ]
    }
   ],
   "source": [
    "X = 'From sigdeldkr@gmail.com Sat Jan 5 09:14:16 2009'\n",
    "Y = re.findall('^From .*@([^ ]*)',X)\n",
    "print Y"
   ]
  },
  {
   "cell_type": "code",
   "execution_count": null,
   "metadata": {
    "collapsed": true
   },
   "outputs": [],
   "source": []
  },
  {
   "cell_type": "code",
   "execution_count": null,
   "metadata": {
    "collapsed": true
   },
   "outputs": [],
   "source": []
  },
  {
   "cell_type": "code",
   "execution_count": null,
   "metadata": {
    "collapsed": true
   },
   "outputs": [],
   "source": []
  },
  {
   "cell_type": "code",
   "execution_count": null,
   "metadata": {
    "collapsed": true
   },
   "outputs": [],
   "source": []
  }
 ],
 "metadata": {
  "kernelspec": {
   "display_name": "Python 2",
   "language": "python",
   "name": "python2"
  },
  "language_info": {
   "codemirror_mode": {
    "name": "ipython",
    "version": 2
   },
   "file_extension": ".py",
   "mimetype": "text/x-python",
   "name": "python",
   "nbconvert_exporter": "python",
   "pygments_lexer": "ipython2",
   "version": "2.7.11"
  }
 },
 "nbformat": 4,
 "nbformat_minor": 0
}
