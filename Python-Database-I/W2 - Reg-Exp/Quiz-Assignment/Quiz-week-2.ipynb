{
 "cells": [
  {
   "cell_type": "markdown",
   "metadata": {},
   "source": [
    " #### Q1 - Which of the following regular expressions would extract 'uct.ac.za' from this string using re.findall?"
   ]
  },
  {
   "cell_type": "code",
   "execution_count": 1,
   "metadata": {
    "collapsed": true
   },
   "outputs": [],
   "source": [
    "X = 'From stephen.marquard@uct.ac.za Sat Jan  5 09:14:16 2008'"
   ]
  },
  {
   "cell_type": "code",
   "execution_count": 3,
   "metadata": {
    "collapsed": false
   },
   "outputs": [
    {
     "name": "stdout",
     "output_type": "stream",
     "text": [
      "['@uct.ac.za']\n",
      "['uct.ac.za']\n"
     ]
    }
   ],
   "source": [
    "import re\n",
    "Y1 = re.findall('@\\S+',X)\n",
    "print Y1\n",
    "Y2 = re.findall('@(\\S+)',X)\n",
    "print Y2\n"
   ]
  },
  {
   "cell_type": "code",
   "execution_count": 4,
   "metadata": {
    "collapsed": false
   },
   "outputs": [
    {
     "name": "stdout",
     "output_type": "stream",
     "text": [
      "['rd@uct.ac.za S']\n"
     ]
    }
   ],
   "source": [
    "Y3 = re.findall('..@\\S+..',X)\n",
    "print Y3"
   ]
  },
  {
   "cell_type": "code",
   "execution_count": 7,
   "metadata": {
    "collapsed": false
   },
   "outputs": [
    {
     "name": "stdout",
     "output_type": "stream",
     "text": [
      "['From stephen.marquard@uct.ac.za Sat Jan  5 09:14:']\n"
     ]
    }
   ],
   "source": [
    "Y4 = re.findall('F.+:',X)\n",
    "print Y4"
   ]
  },
  {
   "cell_type": "markdown",
   "metadata": {},
   "source": [
    "#### Q2- What will the '\\$' regular expression match?"
   ]
  },
  {
   "cell_type": "markdown",
   "metadata": {},
   "source": [
    "A real dollar Sign"
   ]
  },
  {
   "cell_type": "markdown",
   "metadata": {},
   "source": [
    "#### Q3 - What would the following mean in a regular expression? [a-z0-9]"
   ]
  },
  {
   "cell_type": "code",
   "execution_count": 11,
   "metadata": {
    "collapsed": false
   },
   "outputs": [
    {
     "name": "stdout",
     "output_type": "stream",
     "text": [
      "['e', 'l', 'l', 'o', '1', '9', '3', 's', 'y', 't', 's', 'e', 'r', '5', '4', '6', 'f', 'r', 'e', '3', '4', 'd', 'r', '4', '5', 'd', 'e', 'r', 't', 'y', '6', '7', '4', '5', '3', 'w', 'e', '4', '2', '3']\n"
     ]
    }
   ],
   "source": [
    "x = ' Hello 193syt ser546  fre34 dr45derty 67 45 3we4 23'\n",
    "y = re.findall('[a-z0-9]',x)\n",
    "print y"
   ]
  },
  {
   "cell_type": "code",
   "execution_count": 12,
   "metadata": {
    "collapsed": false
   },
   "outputs": [
    {
     "name": "stdout",
     "output_type": "stream",
     "text": [
      "['ello', '193syt', 'ser546', 'fre34', 'dr45derty', '67', '45', '3we4', '23']\n"
     ]
    }
   ],
   "source": [
    "y = re.findall('[a-z0-9]+',x)\n",
    "print y"
   ]
  },
  {
   "cell_type": "markdown",
   "metadata": {},
   "source": [
    "#### Q4 - What is the type of the return value of the re.findall() method?"
   ]
  },
  {
   "cell_type": "markdown",
   "metadata": {},
   "source": [
    "A boolean"
   ]
  },
  {
   "cell_type": "markdown",
   "metadata": {},
   "source": [
    "#### Q5 - What is the \"wild card\" character in a regular expression (i.e., the character that matches any character)?"
   ]
  },
  {
   "cell_type": "markdown",
   "metadata": {},
   "source": [
    "."
   ]
  },
  {
   "cell_type": "markdown",
   "metadata": {},
   "source": [
    "#### Q6 - What is the difference between the \"+\" and \"*\" character in regular expressions?"
   ]
  },
  {
   "cell_type": "markdown",
   "metadata": {},
   "source": [
    "The \"+\" matches at least one character and the \"*\" matches zero or more characters"
   ]
  },
  {
   "cell_type": "markdown",
   "metadata": {},
   "source": [
    "#### Q7 - What does the \"[0-9]+\" match in a regular expression?"
   ]
  },
  {
   "cell_type": "markdown",
   "metadata": {},
   "source": [
    "One or more digits"
   ]
  },
  {
   "cell_type": "markdown",
   "metadata": {},
   "source": [
    "#### Q8 - What does the following Python sequence print out?"
   ]
  },
  {
   "cell_type": "code",
   "execution_count": 14,
   "metadata": {
    "collapsed": false
   },
   "outputs": [
    {
     "name": "stdout",
     "output_type": "stream",
     "text": [
      "['From: Using the :']\n"
     ]
    }
   ],
   "source": [
    "x = 'From: Using the : character'\n",
    "y = re.findall('^F.+:', x)\n",
    "print y"
   ]
  },
  {
   "cell_type": "markdown",
   "metadata": {},
   "source": [
    "#### Q9 -What character do you add to the \"+\" or \"*\" to indicate that the match is to be done in a non-greedy manner?"
   ]
  },
  {
   "cell_type": "markdown",
   "metadata": {},
   "source": [
    "?"
   ]
  },
  {
   "cell_type": "markdown",
   "metadata": {},
   "source": [
    "#### Q10 - Given the following line of text:"
   ]
  },
  {
   "cell_type": "code",
   "execution_count": 18,
   "metadata": {
    "collapsed": true
   },
   "outputs": [],
   "source": [
    "x = 'From stephen.marquard@uct.ac.za Sat Jan  5 09:14:16 2008'"
   ]
  },
  {
   "cell_type": "markdown",
   "metadata": {},
   "source": [
    "What would the regular expression '\\S+?@\\S+' match?"
   ]
  },
  {
   "cell_type": "code",
   "execution_count": 19,
   "metadata": {
    "collapsed": false
   },
   "outputs": [
    {
     "name": "stdout",
     "output_type": "stream",
     "text": [
      "['stephen.marquard@uct.ac.za']\n"
     ]
    }
   ],
   "source": [
    "y = re.findall('\\S+?@\\S+', x)\n",
    "print y"
   ]
  },
  {
   "cell_type": "code",
   "execution_count": null,
   "metadata": {
    "collapsed": true
   },
   "outputs": [],
   "source": []
  }
 ],
 "metadata": {
  "kernelspec": {
   "display_name": "Python 2",
   "language": "python",
   "name": "python2"
  },
  "language_info": {
   "codemirror_mode": {
    "name": "ipython",
    "version": 2
   },
   "file_extension": ".py",
   "mimetype": "text/x-python",
   "name": "python",
   "nbconvert_exporter": "python",
   "pygments_lexer": "ipython2",
   "version": "2.7.10"
  }
 },
 "nbformat": 4,
 "nbformat_minor": 0
}
