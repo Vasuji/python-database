{
 "cells": [
  {
   "cell_type": "code",
   "execution_count": 1,
   "metadata": {
    "collapsed": true
   },
   "outputs": [],
   "source": [
    "import re"
   ]
  },
  {
   "cell_type": "markdown",
   "metadata": {},
   "source": [
    "#### Test"
   ]
  },
  {
   "cell_type": "code",
   "execution_count": 16,
   "metadata": {
    "collapsed": false
   },
   "outputs": [
    {
     "name": "stdout",
     "output_type": "stream",
     "text": [
      "[7746, 12, 1929, 8827, 7, 8837, 128]\n"
     ]
    }
   ],
   "source": [
    "fl = open('test.txt')\n",
    "a = []\n",
    "b = []\n",
    "for line in fl:\n",
    "    line = line.rstrip()\n",
    "    y =  re.findall('[0-9]+',line)\n",
    "    if len(y) > 0:\n",
    "        a.append(y)\n",
    "for k in range(len(a)):\n",
    "    for i in range(len(a[k])):\n",
    "         b.append(int(a[k][i])) \n",
    "print b"
   ]
  },
  {
   "cell_type": "code",
   "execution_count": 17,
   "metadata": {
    "collapsed": false
   },
   "outputs": [
    {
     "data": {
      "text/plain": [
       "27486"
      ]
     },
     "execution_count": 17,
     "metadata": {},
     "output_type": "execute_result"
    }
   ],
   "source": [
    "sum(b)"
   ]
  },
  {
   "cell_type": "markdown",
   "metadata": {},
   "source": [
    "#### Assignment Sample"
   ]
  },
  {
   "cell_type": "code",
   "execution_count": 18,
   "metadata": {
    "collapsed": false
   },
   "outputs": [
    {
     "name": "stdout",
     "output_type": "stream",
     "text": [
      "[3036, 7209, 4497, 6702, 8454, 7449, 3665, 7936, 9772, 7114, 956, 2564, 8003, 1704, 3816, 6662, 5858, 7777, 6482, 9634, 8805, 7123, 9703, 4676, 6373, 2834, 7221, 2981, 5415, 6872, 4806, 5460, 8533, 3538, 9663, 8001, 9795, 8752, 1117, 5349, 4509, 1004, 9258, 4183, 4034, 3342, 3482, 8567, 1052, 8135, 5561, 517, 1218, 8877, 8062, 1720, 279, 2054, 801, 918, 8687, 7073, 1865, 7084, 2923, 63, 8824, 1079, 5801, 5047, 5, 2572, 5616, 171, 3062, 9552, 7655, 829, 6096, 2312, 6015, 7100, 9548, 2727, 1792, 8402, 42]\n"
     ]
    }
   ],
   "source": [
    "fl = open('data_sample.txt')\n",
    "a = []\n",
    "b = []\n",
    "for line in fl:\n",
    "    line = line.rstrip()\n",
    "    y =  re.findall('[0-9]+',line)\n",
    "    if len(y) > 0:\n",
    "        a.append(y)\n",
    "for k in range(len(a)):\n",
    "    for i in range(len(a[k])):\n",
    "         b.append(int(a[k][i])) \n",
    "print b"
   ]
  },
  {
   "cell_type": "code",
   "execution_count": 19,
   "metadata": {
    "collapsed": false
   },
   "outputs": [
    {
     "data": {
      "text/plain": [
       "445822"
      ]
     },
     "execution_count": 19,
     "metadata": {},
     "output_type": "execute_result"
    }
   ],
   "source": [
    "sum(b)"
   ]
  },
  {
   "cell_type": "markdown",
   "metadata": {},
   "source": [
    "### Actual Assignment "
   ]
  },
  {
   "cell_type": "code",
   "execution_count": 21,
   "metadata": {
    "collapsed": false
   },
   "outputs": [
    {
     "name": "stdout",
     "output_type": "stream",
     "text": [
      "[6748, 5477, 3995, 4363, 9621, 3928, 9144, 1998, 4220, 4534, 4390, 4758, 1996, 2962, 7812, 9496, 6377, 9988, 8065, 9110, 4183, 7916, 1956, 5333, 8887, 1769, 2547, 4009, 1635, 2177, 6248, 4753, 5120, 6466, 5826, 4024, 8519, 8773, 5717, 5257, 7084, 6161, 5452, 5500, 697, 7029, 2098, 1933, 382, 7350, 3617, 5955, 3435, 7766, 6637, 6176, 7568, 7947, 9060, 8267, 934, 8451, 7193, 4821, 8896, 3903, 6619, 3016, 6600, 5102, 6067, 6974, 4567, 3957, 2975, 6475, 6753, 42]\n"
     ]
    }
   ],
   "source": [
    "fl = open('data_assignment.txt')\n",
    "a = []\n",
    "b = []\n",
    "for line in fl:\n",
    "    line = line.rstrip()\n",
    "    y =  re.findall('[0-9]+',line)\n",
    "    if len(y) > 0:\n",
    "        a.append(y)\n",
    "for k in range(len(a)):\n",
    "    for i in range(len(a[k])):\n",
    "         b.append(int(a[k][i])) \n",
    "print b"
   ]
  },
  {
   "cell_type": "code",
   "execution_count": 22,
   "metadata": {
    "collapsed": false
   },
   "outputs": [
    {
     "data": {
      "text/plain": [
       "423556"
      ]
     },
     "execution_count": 22,
     "metadata": {},
     "output_type": "execute_result"
    }
   ],
   "source": [
    "sum(b)"
   ]
  },
  {
   "cell_type": "code",
   "execution_count": null,
   "metadata": {
    "collapsed": true
   },
   "outputs": [],
   "source": []
  }
 ],
 "metadata": {
  "kernelspec": {
   "display_name": "Python 2",
   "language": "python",
   "name": "python2"
  },
  "language_info": {
   "codemirror_mode": {
    "name": "ipython",
    "version": 2
   },
   "file_extension": ".py",
   "mimetype": "text/x-python",
   "name": "python",
   "nbconvert_exporter": "python",
   "pygments_lexer": "ipython2",
   "version": "2.7.10"
  }
 },
 "nbformat": 4,
 "nbformat_minor": 0
}
